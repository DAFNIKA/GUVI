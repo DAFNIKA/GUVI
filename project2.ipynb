{
  "nbformat": 4,
  "nbformat_minor": 0,
  "metadata": {
    "colab": {
      "provenance": [],
      "authorship_tag": "ABX9TyM3IKbj1Jm1QU9v+pE9eaSb",
      "include_colab_link": true
    },
    "kernelspec": {
      "name": "python3",
      "display_name": "Python 3"
    },
    "language_info": {
      "name": "python"
    }
  },
  "cells": [
    {
      "cell_type": "markdown",
      "metadata": {
        "id": "view-in-github",
        "colab_type": "text"
      },
      "source": [
        "<a href=\"https://colab.research.google.com/github/DAFNIKA/GUVI/blob/main/project2.ipynb\" target=\"_parent\"><img src=\"https://colab.research.google.com/assets/colab-badge.svg\" alt=\"Open In Colab\"/></a>"
      ]
    },
    {
      "cell_type": "code",
      "source": [
        "import requests\n",
        "import time\n",
        "\n",
        "all_products = []\n",
        "page_number = 1\n",
        "records_to_collect = 12000\n",
        "page_size = 1000\n",
        "\n",
        "\n",
        "while len(all_products) < records_to_collect:\n",
        "    url = f\"https://world.openfoodfacts.org/api/v2/search?categories=chocolates&fields=code,product_name,brands,nutriments&page_size={page_size}&page={page_number}\"\n",
        "\n",
        "    try:\n",
        "        response = requests.get(url)\n",
        "        response.raise_for_status()\n",
        "        data = response.json()\n",
        "\n",
        "        products = data.get('products', [])\n",
        "\n",
        "        if not products:\n",
        "            print(f\"No more products found on page {page_number}. Stopping data collection.\")\n",
        "            break\n",
        "\n",
        "        all_products.extend(products)\n",
        "\n",
        "        print(f\"Collected {len(all_products)} records so far (from page {page_number})\")\n",
        "        page_number += 1\n",
        "\n",
        "    except requests.exceptions.RequestException as e:\n",
        "        print(f\"Error fetching data from page {page_number}: {e}\")\n",
        "        break\n",
        "    except ValueError:\n",
        "        print(f\"Error decoding JSON from page {page_number}. Skipping this page.\")\n",
        "        page_number += 1\n",
        "\n",
        "print(f\"Finished collecting data. Total records collected: {len(all_products)}\")\n"
      ],
      "metadata": {
        "id": "mhNfJY94GjNQ"
      },
      "execution_count": null,
      "outputs": []
    },
    {
      "cell_type": "code",
      "metadata": {
        "id": "XCbEKGJh5scp"
      },
      "source": [
        "import pandas as pd\n",
        "\n",
        "df = pd.DataFrame(all_products)\n",
        "\n",
        "df"
      ],
      "execution_count": null,
      "outputs": []
    },
    {
      "cell_type": "code",
      "source": [
        "missing_counts = df.isnull().sum()\n",
        "missing_percentage = (missing_counts / len(df)) * 100\n",
        "\n",
        "missing_df = pd.DataFrame({\n",
        "    'Missing Values': missing_counts,\n",
        "    'Percentage (%)': missing_percentage\n",
        "}).sort_values(by='Missing Values', ascending=False)\n",
        "\n",
        "missing_df.head(20)"
      ],
      "metadata": {
        "id": "VMlOWMT2LpIa"
      },
      "execution_count": null,
      "outputs": []
    },
    {
      "cell_type": "code",
      "source": [
        "threshold = 60\n",
        "columns_to_drop = missing_df[missing_df['Percentage (%)'] > threshold].index\n",
        "\n",
        "df_cleaned = df.drop(columns=columns_to_drop)\n",
        "\n",
        "print(f\"Dropped {len(columns_to_drop)} columns with > {threshold}% missing values.\")"
      ],
      "metadata": {
        "id": "Q5MBrEovdc4P"
      },
      "execution_count": null,
      "outputs": []
    },
    {
      "cell_type": "code",
      "source": [
        "categorical_cols = ['product_name', 'brands']\n",
        "df_cleaned[categorical_cols] = df_cleaned[categorical_cols].fillna(\"Unknown\")\n"
      ],
      "metadata": {
        "id": "XgV_eXt1dkcA"
      },
      "execution_count": null,
      "outputs": []
    },
    {
      "cell_type": "code",
      "source": [
        "numerical_cols = df_cleaned.select_dtypes(include=['float64', 'int64']).columns\n",
        "\n",
        "df_cleaned[numerical_cols] = df_cleaned[numerical_cols].fillna(df_cleaned[numerical_cols].median())\n"
      ],
      "metadata": {
        "id": "GL-FfVlndoAP"
      },
      "execution_count": null,
      "outputs": []
    },
    {
      "cell_type": "code",
      "source": [
        "\n",
        "df_cleaned.isnull().sum().sort_values(ascending=False).head(10)\n"
      ],
      "metadata": {
        "id": "zVZH42Apdq0G"
      },
      "execution_count": null,
      "outputs": []
    },
    {
      "cell_type": "code",
      "source": [
        "required_columns = {\n",
        "    'energy-kcal_value': 'energy-kcal_100g',\n",
        "    'energy-kj_value': 'energy_100g',\n",
        "    'carbohydrates_value': 'carbohydrates_100g',\n",
        "    'sugars_value': 'sugars_100g',\n",
        "    'fat_value': 'fat_100g',\n",
        "    'saturated-fat_value': 'saturated-fat_100g',\n",
        "    'proteins_value': 'proteins_100g',\n",
        "    'fiber_value': 'fiber_100g',\n",
        "    'salt_value': 'salt_100g',\n",
        "    'sodium_value': 'sodium_100g',\n",
        "    'nova-group': 'nova_group',\n",
        "    'nutrition-score-fr': 'nutrition-score-fr_100g',\n",
        "    'fruits-vegetables-nuts-estimate-from-ingredients_100g': 'fruits-vegetables-nuts-estimate-from-ingredients_100g'\n",
        "}\n",
        "\n",
        "df_fe = df_cleaned.rename(columns=required_columns)"
      ],
      "metadata": {
        "id": "B8zkG-HAdwne"
      },
      "execution_count": null,
      "outputs": []
    },
    {
      "cell_type": "code",
      "source": [
        "nutrients_df = pd.json_normalize(df_fe['nutriments'])\n",
        "\n",
        "df_fe = df_fe.join(nutrients_df)\n",
        "\n",
        "df_fe['sugar_to_carb_ratio'] = df_fe['sugars_100g'] / df_fe['carbohydrates_100g']\n",
        "df_fe['sugar_to_carb_ratio'] = df_fe['sugar_to_carb_ratio'].replace([float('inf'), -float('inf')], None)"
      ],
      "metadata": {
        "id": "oEg5y8h3eHl-"
      },
      "execution_count": null,
      "outputs": []
    },
    {
      "cell_type": "code",
      "source": [
        "def classify_calories(kcal):\n",
        "    if kcal < 150:\n",
        "        return 'Low'\n",
        "    elif 150 <= kcal <= 400:\n",
        "        return 'Moderate'\n",
        "    else:\n",
        "        return 'High'\n",
        "\n",
        "df_fe['calorie_category'] = df_fe['energy-kcal_100g'].apply(classify_calories)\n"
      ],
      "metadata": {
        "id": "-7G2NjFseVMY"
      },
      "execution_count": null,
      "outputs": []
    },
    {
      "cell_type": "code",
      "source": [
        "def classify_sugar(sugar):\n",
        "    if sugar < 5:\n",
        "        return 'Low Sugar'\n",
        "    elif 5 <= sugar <= 15:\n",
        "        return 'Moderate Sugar'\n",
        "    else:\n",
        "        return 'High Sugar'\n",
        "\n",
        "df_fe['sugar_category'] = df_fe['sugars_100g'].apply(classify_sugar)\n"
      ],
      "metadata": {
        "id": "Y9vNxZoPeX2A"
      },
      "execution_count": null,
      "outputs": []
    },
    {
      "cell_type": "code",
      "source": [
        "df_fe['is_ultra_processed'] = df_fe['nova-group'].apply(lambda x: 'Yes' if x == 4 else 'No')"
      ],
      "metadata": {
        "id": "Uj9vPxjZed8l"
      },
      "execution_count": null,
      "outputs": []
    },
    {
      "cell_type": "code",
      "source": [
        "import seaborn as sns\n",
        "import matplotlib.pyplot as plt\n"
      ],
      "metadata": {
        "id": "RGuchnY6e_KD"
      },
      "execution_count": null,
      "outputs": []
    },
    {
      "cell_type": "code",
      "source": [
        "print(\"Shape:\", df_fe.shape)\n",
        "df_fe.info()\n",
        "df_fe.describe()\n"
      ],
      "metadata": {
        "id": "DJv55LD8fAD-"
      },
      "execution_count": null,
      "outputs": []
    },
    {
      "cell_type": "code",
      "source": [
        "missing = df_fe.isnull().sum().sort_values(ascending=False)\n",
        "print(missing[missing > 0])\n"
      ],
      "metadata": {
        "id": "c9o-jfBQfGKO"
      },
      "execution_count": null,
      "outputs": []
    },
    {
      "cell_type": "code",
      "source": [
        "fig, axs = plt.subplots(2, 2, figsize=(14, 10))\n",
        "\n",
        "sns.histplot(df_fe['energy-kcal_100g'], bins=30, kde=True, ax=axs[0, 0]).set(title='Calories Distribution')\n",
        "sns.histplot(df_fe['sugars_100g'], bins=30, kde=True, ax=axs[0, 1]).set(title='Sugars Distribution')\n",
        "sns.histplot(df_fe['carbohydrates_100g'], bins=30, kde=True, ax=axs[1, 0]).set(title='Carbohydrates Distribution')\n",
        "sns.histplot(df_fe['sugar_to_carb_ratio'], bins=30, kde=True, ax=axs[1, 1]).set(title='Sugar to Carb Ratio')\n",
        "\n",
        "plt.tight_layout()\n",
        "plt.show()\n"
      ],
      "metadata": {
        "id": "qyg0eWDPfKcV"
      },
      "execution_count": null,
      "outputs": []
    },
    {
      "cell_type": "code",
      "source": [
        "sns.countplot(data=df_fe, x='calorie_category', palette='viridis').set(title='Calorie Category Count')\n",
        "plt.show()\n",
        "\n",
        "sns.countplot(data=df_fe, x='sugar_category', palette='magma').set(title='Sugar Category Count')\n",
        "plt.show()\n"
      ],
      "metadata": {
        "id": "QsxthvtUfl-t"
      },
      "execution_count": null,
      "outputs": []
    },
    {
      "cell_type": "code",
      "source": [
        "df_fe['nova-group'].value_counts().plot.pie(autopct='%1.1f%%', startangle=90, figsize=(6,6), title='NOVA Group Distribution')\n",
        "plt.ylabel('')\n",
        "plt.show()"
      ],
      "metadata": {
        "id": "gWojhWr_fr0N"
      },
      "execution_count": null,
      "outputs": []
    },
    {
      "cell_type": "code",
      "source": [
        "sns.countplot(data=df_fe, x='is_ultra_processed', palette='Set2').set(title='Ultra Processed Products')\n",
        "plt.show()\n"
      ],
      "metadata": {
        "id": "R-H-abe_fxp-"
      },
      "execution_count": null,
      "outputs": []
    },
    {
      "cell_type": "code",
      "source": [
        "sns.scatterplot(data=df_fe, x='energy-kcal_100g', y='sugars_100g', hue='is_ultra_processed')\n",
        "plt.title(\"Calories vs Sugars (Colored by Ultra-Processing)\")\n",
        "plt.show()\n"
      ],
      "metadata": {
        "id": "ZUb3VhvWfzNv"
      },
      "execution_count": null,
      "outputs": []
    },
    {
      "cell_type": "code",
      "source": [
        "plt.figure(figsize=(12, 8))\n",
        "corr = df_fe.select_dtypes(include=['float64', 'int64']).corr()\n",
        "sns.heatmap(corr, annot=True, cmap='coolwarm', fmt='.1f', square=True)\n",
        "plt.title('Nutritional Correlation Heatmap')\n",
        "plt.show()\n"
      ],
      "metadata": {
        "id": "xwmz6_grf3A9"
      },
      "execution_count": null,
      "outputs": []
    },
    {
      "cell_type": "code",
      "source": [
        "top_brands = df_fe.groupby('brands')[['energy-kcal_100g', 'sugars_100g']].mean().sort_values(by='energy-kcal_100g', ascending=False).head(10)\n",
        "\n",
        "top_brands.plot(kind='bar', figsize=(10,6), title='Top 10 Brands by Avg Calories & Sugar')\n",
        "plt.ylabel('Amount per 100g')\n",
        "plt.xticks(rotation=45)\n",
        "plt.tight_layout()\n",
        "plt.show()\n"
      ],
      "metadata": {
        "id": "kLSJldWNgP2A"
      },
      "execution_count": null,
      "outputs": []
    },
    {
      "cell_type": "code",
      "source": [
        "import sqlite3\n",
        "\n",
        "conn = sqlite3.connect('chocolate_products1.db')\n",
        "cursor = conn.cursor()\n"
      ],
      "metadata": {
        "id": "0mJWXO8fH4bn"
      },
      "execution_count": null,
      "outputs": []
    },
    {
      "cell_type": "code",
      "source": [
        "cursor.execute('''\n",
        "CREATE TABLE IF NOT EXISTS product_info (\n",
        "    product_code TEXT PRIMARY KEY,\n",
        "    product_name TEXT,\n",
        "    brand TEXT\n",
        ")\n",
        "''')\n",
        "\n",
        "cursor.execute('''\n",
        "CREATE TABLE IF NOT EXISTS nutrient_info (\n",
        "    product_code TEXT PRIMARY KEY,\n",
        "    energy_kcal_value FLOAT,\n",
        "    energy_kj_value FLOAT,\n",
        "    carbohydrates_value FLOAT,\n",
        "    sugars_value FLOAT,\n",
        "    fat_value FLOAT,\n",
        "    saturated_fat_value FLOAT,\n",
        "    proteins_value FLOAT,\n",
        "    fiber_value FLOAT,\n",
        "    salt_value FLOAT,\n",
        "    sodium_value FLOAT,\n",
        "    fruits_veg_nuts_estimate_100g FLOAT,\n",
        "    nutrition_score_fr INTEGER,\n",
        "    nova_group INTEGER,\n",
        "    FOREIGN KEY (product_code) REFERENCES product_info(product_code)\n",
        ")\n",
        "''')\n",
        "\n",
        "cursor.execute('''\n",
        "CREATE TABLE IF NOT EXISTS derived_metrics (\n",
        "    product_code TEXT PRIMARY KEY,\n",
        "    sugar_to_carb_ratio FLOAT,\n",
        "    calorie_category TEXT,\n",
        "    sugar_category TEXT,\n",
        "    is_ultra_processed TEXT,\n",
        "    FOREIGN KEY (product_code) REFERENCES product_info(product_code)\n",
        ")\n",
        "''')\n",
        "\n",
        "conn.commit()\n"
      ],
      "metadata": {
        "id": "PVt4trI4H_Kf"
      },
      "execution_count": null,
      "outputs": []
    },
    {
      "cell_type": "code",
      "source": [
        "df_product = df_fe[['code', 'product_name', 'brands']].rename(columns={\n",
        "    'code': 'product_code',\n",
        "    'brands': 'brand'\n",
        "})\n",
        "\n",
        "df_nutrients = df_fe[['code', 'energy-kcal_100g', 'energy_100g', 'carbohydrates_100g',\n",
        "                      'sugars_100g', 'fat_100g', 'saturated-fat_100g', 'proteins_100g',\n",
        "                      'fiber_100g', 'salt_100g', 'sodium_100g',\n",
        "                      'fruits-vegetables-nuts-estimate-from-ingredients_100g',\n",
        "                      'nutrition-score-fr_100g', 'nova-group']].rename(columns={\n",
        "    'code': 'product_code',\n",
        "    'energy-kcal_100g': 'energy_kcal_value',\n",
        "    'energy_100g': 'energy_kj_value',\n",
        "    'carbohydrates_100g': 'carbohydrates_value',\n",
        "    'sugars_100g': 'sugars_value',\n",
        "    'fat_100g': 'fat_value',\n",
        "    'saturated-fat_100g': 'saturated_fat_value',\n",
        "    'proteins_100g': 'proteins_value',\n",
        "    'fiber_100g': 'fiber_value',\n",
        "    'salt_100g': 'salt_value',\n",
        "    'sodium_100g': 'sodium_value',\n",
        "    'fruits-vegetables-nuts-estimate-from-ingredients_100g': 'fruits_veg_nuts_estimate_100g',\n",
        "    'nutrition-score-fr_100g': 'nutrition_score_fr',\n",
        "    'nova-group': 'nova_group'\n",
        "})\n",
        "\n",
        "df_derived = df_fe[['code', 'sugar_to_carb_ratio', 'calorie_category',\n",
        "                    'sugar_category', 'is_ultra_processed']].rename(columns={\n",
        "    'code': 'product_code'\n",
        "})\n"
      ],
      "metadata": {
        "id": "fcdCy1-7ICpf"
      },
      "execution_count": null,
      "outputs": []
    },
    {
      "cell_type": "code",
      "source": [
        "# Insert product info\n",
        "for _, row in df_product.iterrows():\n",
        "    cursor.execute('''\n",
        "    INSERT OR IGNORE INTO product_info (product_code, product_name, brand)\n",
        "    VALUES (?, ?, ?)\n",
        "    ''', (row['product_code'], row['product_name'], row['brand']))\n",
        "\n",
        "# Insert nutrient info\n",
        "for _, row in df_nutrients.iterrows():\n",
        "    cursor.execute('''\n",
        "    INSERT OR IGNORE INTO nutrient_info (\n",
        "        product_code, energy_kcal_value, energy_kj_value, carbohydrates_value,\n",
        "        sugars_value, fat_value, saturated_fat_value, proteins_value,\n",
        "        fiber_value, salt_value, sodium_value, fruits_veg_nuts_estimate_100g,\n",
        "        nutrition_score_fr, nova_group\n",
        "    ) VALUES (?, ?, ?, ?, ?, ?, ?, ?, ?, ?, ?, ?, ?, ?)\n",
        "    ''', tuple(row))\n",
        "\n",
        "# Insert derived metrics\n",
        "for _, row in df_derived.iterrows():\n",
        "    cursor.execute('''\n",
        "    INSERT OR IGNORE INTO derived_metrics (\n",
        "        product_code, sugar_to_carb_ratio, calorie_category,\n",
        "        sugar_category, is_ultra_processed\n",
        "    ) VALUES (?, ?, ?, ?, ?)\n",
        "    ''', tuple(row))\n",
        "\n",
        "conn.commit()\n"
      ],
      "metadata": {
        "id": "vCe4KHDvIG5n"
      },
      "execution_count": null,
      "outputs": []
    },
    {
      "cell_type": "code",
      "source": [
        "cursor.execute('SELECT COUNT(*) FROM product_info')\n",
        "print(\"Products in product_info:\", cursor.fetchone()[0])\n",
        "\n",
        "cursor.execute('SELECT COUNT(*) FROM nutrient_info')\n",
        "print(\"Products in nutrient_info:\", cursor.fetchone()[0])\n",
        "\n",
        "cursor.execute('SELECT COUNT(*) FROM derived_metrics')\n",
        "print(\"Products in derived_metrics:\", cursor.fetchone()[0])\n"
      ],
      "metadata": {
        "id": "000Xafa7IKE_"
      },
      "execution_count": null,
      "outputs": []
    },
    {
      "cell_type": "code",
      "source": [
        "df_product.to_csv('product_info.csv', index=False)\n",
        "df_nutrients.to_csv('nutrient_info.csv', index=False)\n",
        "df_derived.to_csv('derived_metrics.csv', index=False)\n"
      ],
      "metadata": {
        "id": "4MYdOjWjIo1A"
      },
      "execution_count": null,
      "outputs": []
    },
    {
      "cell_type": "code",
      "source": [
        "print(\"df_product:\", df_product.shape)\n",
        "print(\"df_nutrients:\", df_nutrients.shape)\n",
        "print(\"df_derived:\", df_derived.shape)\n"
      ],
      "metadata": {
        "id": "5xUuSsULJZuG"
      },
      "execution_count": null,
      "outputs": []
    },
    {
      "cell_type": "code",
      "source": [
        "print(df_fe.columns)\n"
      ],
      "metadata": {
        "id": "mzGCjpJfJlIn"
      },
      "execution_count": null,
      "outputs": []
    },
    {
      "cell_type": "code",
      "source": [
        "\n",
        "df_fe['sugar_to_carb_ratio'] = df_fe['sugars_100g'] / df_fe['carbohydrates_100g']\n",
        "df_fe['calorie_category'] = pd.cut(df_fe['energy-kcal_100g'],\n",
        "                                   bins=[0, 200, 400, float('inf')],\n",
        "                                   labels=['Low', 'Moderate', 'High'])\n",
        "df_fe['sugar_category'] = pd.cut(df_fe['sugars_100g'],\n",
        "                                 bins=[0, 10, 25, float('inf')],\n",
        "                                 labels=['Low Sugar', 'Moderate Sugar', 'High Sugar'])\n",
        "df_fe['is_ultra_processed'] = df_fe['nova-group'].apply(lambda x: 'Yes' if x == 4 else 'No')"
      ],
      "metadata": {
        "id": "qjg-JMlhJmSI"
      },
      "execution_count": null,
      "outputs": []
    },
    {
      "cell_type": "code",
      "source": [
        "print(df_product.head())\n",
        "print(df_nutrients.head())\n",
        "print(df_derived.head())\n"
      ],
      "metadata": {
        "id": "LlTh_VMQJqs3"
      },
      "execution_count": null,
      "outputs": []
    },
    {
      "cell_type": "code",
      "source": [
        "df_product.to_csv('product_info.csv', index=False)\n",
        "df_nutrients.to_csv('nutrient_info.csv', index=False)\n",
        "df_derived.to_csv('derived_metrics.csv', index=False)\n"
      ],
      "metadata": {
        "id": "QqJhuU6aJxhv"
      },
      "execution_count": null,
      "outputs": []
    },
    {
      "cell_type": "code",
      "metadata": {
        "id": "8abaa203"
      },
      "source": [
        "!pip install ipython-sql\n",
        "%load_ext sql"
      ],
      "execution_count": null,
      "outputs": []
    },
    {
      "cell_type": "code",
      "source": [
        "%sql sqlite:///chocolate_products1.db"
      ],
      "metadata": {
        "id": "3gz3AppvXSP4"
      },
      "execution_count": null,
      "outputs": []
    },
    {
      "cell_type": "code",
      "source": [
        "query = '''\n",
        "SELECT brand, COUNT(*) AS product_count FROM product_info GROUP BY brand\n",
        "\n",
        "'''\n",
        "pd.read_sql(query, conn)\n"
      ],
      "metadata": {
        "id": "PSJs11HhZkbx"
      },
      "execution_count": null,
      "outputs": []
    },
    {
      "cell_type": "code",
      "source": [
        "query = '''\n",
        "SELECT brand, COUNT(DISTINCT product_name) AS unique_product_count\n",
        "FROM product_info\n",
        "GROUP BY brand;\n",
        "\n",
        "\n",
        "'''\n",
        "pd.read_sql(query, conn)"
      ],
      "metadata": {
        "id": "96koxFombkrx"
      },
      "execution_count": null,
      "outputs": []
    },
    {
      "cell_type": "code",
      "source": [
        "query = '''\n",
        "SELECT brand, COUNT(*) AS product_count\n",
        "FROM product_info\n",
        "GROUP BY brand\n",
        "ORDER BY product_count DESC\n",
        "LIMIT 5;\n",
        "\n",
        "\n",
        "'''\n",
        "pd.read_sql(query, conn)"
      ],
      "metadata": {
        "id": "OcmAVdW0bxhR"
      },
      "execution_count": null,
      "outputs": []
    },
    {
      "cell_type": "code",
      "source": [
        "query = '''\n",
        "SELECT *\n",
        "FROM product_info\n",
        "WHERE product_name IS NULL OR product_name = '';\n",
        "'''\n",
        "pd.read_sql(query, conn)"
      ],
      "metadata": {
        "id": "Lf4tEAV7b3jB"
      },
      "execution_count": null,
      "outputs": []
    },
    {
      "cell_type": "code",
      "source": [
        "query = '''\n",
        "SELECT COUNT(DISTINCT brand) AS unique_brands\n",
        "FROM product_info;\n",
        "'''\n",
        "pd.read_sql(query, conn)"
      ],
      "metadata": {
        "id": "TzGxTLFab5NK"
      },
      "execution_count": null,
      "outputs": []
    },
    {
      "cell_type": "code",
      "source": [
        "query = '''\n",
        "SELECT *\n",
        "FROM product_info\n",
        "WHERE product_code LIKE '3%';\n",
        "'''\n",
        "pd.read_sql(query, conn)"
      ],
      "metadata": {
        "id": "gjr2I0tMb6wp"
      },
      "execution_count": null,
      "outputs": []
    },
    {
      "cell_type": "code",
      "source": [
        "#nutrient_info\n",
        "query = '''\n",
        "SELECT product_code, energy_kcal_value\n",
        "FROM nutrient_info\n",
        "ORDER BY energy_kcal_value DESC\n",
        "LIMIT 10;\n",
        "'''\n",
        "pd.read_sql(query, conn)"
      ],
      "metadata": {
        "id": "U6-cBhdAb__Z"
      },
      "execution_count": null,
      "outputs": []
    },
    {
      "cell_type": "code",
      "source": [
        "query = '''\n",
        "SELECT nova_group, AVG(sugars_value) AS avg_sugars\n",
        "FROM nutrient_info\n",
        "GROUP BY nova_group;\n",
        "'''\n",
        "pd.read_sql(query, conn)"
      ],
      "metadata": {
        "id": "iUeQNX6OcDKJ"
      },
      "execution_count": null,
      "outputs": []
    },
    {
      "cell_type": "code",
      "source": [
        "query = '''\n",
        "SELECT COUNT(*) AS high_fat_products\n",
        "FROM nutrient_info\n",
        "WHERE fat_value > 20;\n",
        "'''\n",
        "pd.read_sql(query, conn)"
      ],
      "metadata": {
        "id": "2v3XuP1tcFEZ"
      },
      "execution_count": null,
      "outputs": []
    },
    {
      "cell_type": "code",
      "source": [
        "query = '''\n",
        "SELECT AVG(carbohydrates_value) AS avg_carbohydrates\n",
        "FROM nutrient_info;\n",
        "'''\n",
        "pd.read_sql(query, conn)"
      ],
      "metadata": {
        "id": "xN-j52wTcHLC"
      },
      "execution_count": null,
      "outputs": []
    },
    {
      "cell_type": "code",
      "source": [
        "query = '''\n",
        "SELECT *\n",
        "FROM nutrient_info\n",
        "WHERE sodium_value > 1;\n",
        "'''\n",
        "pd.read_sql(query, conn)"
      ],
      "metadata": {
        "id": "obmYohrxcJCp"
      },
      "execution_count": null,
      "outputs": []
    },
    {
      "cell_type": "code",
      "source": [
        "query = '''\n",
        "SELECT COUNT(*) AS non_zero_fvn\n",
        "FROM nutrient_info\n",
        "WHERE fruits_veg_nuts_estimate_100g > 0;\n",
        "'''\n",
        "pd.read_sql(query, conn)"
      ],
      "metadata": {
        "id": "R2303w9bcKwI"
      },
      "execution_count": null,
      "outputs": []
    },
    {
      "cell_type": "code",
      "source": [
        "query = '''\n",
        "SELECT *\n",
        "FROM nutrient_info\n",
        "WHERE energy_kcal_value > 500;\n",
        "'''\n",
        "pd.read_sql(query, conn)"
      ],
      "metadata": {
        "id": "wLRxhfLLcPXC"
      },
      "execution_count": null,
      "outputs": []
    },
    {
      "cell_type": "code",
      "source": [
        "#derived_metrics"
      ],
      "metadata": {
        "id": "ee2TPkmGcQNK"
      },
      "execution_count": null,
      "outputs": []
    },
    {
      "cell_type": "code",
      "source": [
        "query = '''\n",
        "SELECT calorie_category, COUNT(*) AS product_count\n",
        "FROM derived_metrics\n",
        "GROUP BY calorie_category;\n",
        "'''\n",
        "pd.read_sql(query, conn)"
      ],
      "metadata": {
        "id": "MLSFHWdAcfoE"
      },
      "execution_count": null,
      "outputs": []
    },
    {
      "cell_type": "code",
      "source": [
        "query = '''\n",
        "SELECT COUNT(*) AS high_sugar_count\n",
        "FROM derived_metrics\n",
        "WHERE sugar_category = 'High Sugar';\n",
        "'''\n",
        "pd.read_sql(query, conn)"
      ],
      "metadata": {
        "id": "YHe3yI0lchjJ"
      },
      "execution_count": null,
      "outputs": []
    },
    {
      "cell_type": "code",
      "source": [
        "query = '''\n",
        "SELECT AVG(sugar_to_carb_ratio) AS avg_ratio\n",
        "FROM derived_metrics\n",
        "WHERE calorie_category = 'High Calorie';\n",
        "'''\n",
        "pd.read_sql(query, conn)"
      ],
      "metadata": {
        "id": "A7Bs1hLucjgw"
      },
      "execution_count": null,
      "outputs": []
    },
    {
      "cell_type": "code",
      "source": [
        "query = '''\n",
        "SELECT *\n",
        "FROM derived_metrics\n",
        "WHERE calorie_category = 'High Calorie' AND sugar_category = 'High Sugar';\n",
        "'''\n",
        "pd.read_sql(query, conn)"
      ],
      "metadata": {
        "id": "ultI87BIcm9y"
      },
      "execution_count": null,
      "outputs": []
    },
    {
      "cell_type": "code",
      "source": [
        "query = '''\n",
        "SELECT COUNT(*) AS ultra_processed_count\n",
        "FROM derived_metrics\n",
        "WHERE is_ultra_processed = TRUE;\n",
        "'''\n",
        "pd.read_sql(query, conn)"
      ],
      "metadata": {
        "id": "rLOIC31jcnqh"
      },
      "execution_count": null,
      "outputs": []
    },
    {
      "cell_type": "code",
      "source": [
        "query = '''\n",
        "SELECT *\n",
        "FROM derived_metrics\n",
        "WHERE sugar_to_carb_ratio > 0.7;\n",
        "'''\n",
        "pd.read_sql(query, conn)"
      ],
      "metadata": {
        "id": "PZidKqnGcqNh"
      },
      "execution_count": null,
      "outputs": []
    },
    {
      "cell_type": "code",
      "source": [
        "query = '''\n",
        "SELECT calorie_category, AVG(sugar_to_carb_ratio) AS avg_ratio\n",
        "FROM derived_metrics\n",
        "GROUP BY calorie_category;\n",
        "'''\n",
        "pd.read_sql(query, conn)"
      ],
      "metadata": {
        "id": "m7s6bdescq54"
      },
      "execution_count": null,
      "outputs": []
    },
    {
      "cell_type": "code",
      "source": [
        "#Join Queries\n",
        "query = '''\n",
        "SELECT pi.brand, COUNT(*) AS high_calorie_count\n",
        "FROM product_info pi\n",
        "JOIN derived_metrics dm ON pi.product_code = dm.product_code\n",
        "WHERE dm.calorie_category = 'High'\n",
        "GROUP BY pi.brand\n",
        "ORDER BY high_calorie_count DESC\n",
        "LIMIT 5;\n",
        "'''\n",
        "pd.read_sql(query, conn)"
      ],
      "metadata": {
        "id": "X3Fei7USctoZ"
      },
      "execution_count": null,
      "outputs": []
    },
    {
      "cell_type": "code",
      "source": [
        "query = '''\n",
        "SELECT dm.calorie_category, AVG(ni.energy_kcal_value) AS avg_energy\n",
        "FROM derived_metrics dm\n",
        "JOIN nutrient_info ni ON dm.product_code = ni.product_code\n",
        "GROUP BY dm.calorie_category;\n",
        "'''\n",
        "pd.read_sql(query, conn)"
      ],
      "metadata": {
        "id": "wdY-cF0Dcz8h"
      },
      "execution_count": null,
      "outputs": []
    },
    {
      "cell_type": "code",
      "source": [
        "query = '''\n",
        "SELECT pi.brand, COUNT(*) AS ultra_processed_count\n",
        "FROM product_info pi\n",
        "JOIN derived_metrics dm ON pi.product_code = dm.product_code\n",
        "WHERE dm.is_ultra_processed = TRUE\n",
        "GROUP BY pi.brand;\n",
        "'''\n",
        "pd.read_sql(query, conn)"
      ],
      "metadata": {
        "id": "UGlx8jEic0aY"
      },
      "execution_count": null,
      "outputs": []
    },
    {
      "cell_type": "code",
      "source": [
        "query = '''\n",
        "SELECT pi.product_code, pi.brand, pi.product_name\n",
        "FROM product_info pi\n",
        "JOIN derived_metrics dm ON pi.product_code = dm.product_code\n",
        "WHERE dm.calorie_category = 'High' AND dm.sugar_category = 'High Sugar';\n",
        "'''\n",
        "pd.read_sql(query, conn)"
      ],
      "metadata": {
        "id": "lTRyJjiKc17Y"
      },
      "execution_count": null,
      "outputs": []
    },
    {
      "cell_type": "code",
      "source": [
        "query = '''\n",
        "SELECT pi.brand, AVG(ni.sugars_value) AS avg_sugar\n",
        "FROM product_info pi\n",
        "JOIN nutrient_info ni ON pi.product_code = ni.product_code\n",
        "JOIN derived_metrics dm ON pi.product_code = dm.product_code\n",
        "WHERE dm.is_ultra_processed = TRUE\n",
        "GROUP BY pi.brand;\n",
        "'''\n",
        "pd.read_sql(query, conn)"
      ],
      "metadata": {
        "id": "5bOLKdGwc3jA"
      },
      "execution_count": null,
      "outputs": []
    },
    {
      "cell_type": "code",
      "source": [
        "query = '''\n",
        "SELECT dm.calorie_category, COUNT(*) AS count_with_fvn\n",
        "FROM nutrient_info ni\n",
        "JOIN derived_metrics dm ON ni.product_code = dm.product_code\n",
        "WHERE ni.fruits_veg_nuts_estimate_100g > 0\n",
        "GROUP BY dm.calorie_category;\n",
        "'''\n",
        "pd.read_sql(query, conn)"
      ],
      "metadata": {
        "id": "uma7V1FBc5R5"
      },
      "execution_count": null,
      "outputs": []
    },
    {
      "cell_type": "code",
      "source": [
        "query = '''\n",
        "SELECT dm.product_code, dm.sugar_to_carb_ratio, dm.calorie_category, dm.sugar_category\n",
        "FROM derived_metrics dm\n",
        "ORDER BY dm.sugar_to_carb_ratio DESC\n",
        "LIMIT 5;\n",
        "'''\n",
        "pd.read_sql(query, conn)"
      ],
      "metadata": {
        "id": "OBMD---Tc8aR"
      },
      "execution_count": null,
      "outputs": []
    }
  ]
}