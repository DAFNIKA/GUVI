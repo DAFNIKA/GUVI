{
  "nbformat": 4,
  "nbformat_minor": 0,
  "metadata": {
    "colab": {
      "provenance": [],
      "authorship_tag": "ABX9TyPO6rYyjQYxKnPq2oqKgjP7",
      "include_colab_link": true
    },
    "kernelspec": {
      "name": "python3",
      "display_name": "Python 3"
    },
    "language_info": {
      "name": "python"
    }
  },
  "cells": [
    {
      "cell_type": "markdown",
      "metadata": {
        "id": "view-in-github",
        "colab_type": "text"
      },
      "source": [
        "<a href=\"https://colab.research.google.com/github/DAFNIKA/GUVI/blob/main/project1.ipynb\" target=\"_parent\"><img src=\"https://colab.research.google.com/assets/colab-badge.svg\" alt=\"Open In Colab\"/></a>"
      ]
    },
    {
      "cell_type": "code",
      "execution_count": null,
      "metadata": {
        "id": "qvITq2LMGp1I"
      },
      "outputs": [],
      "source": [
        "!pip install requests"
      ]
    },
    {
      "cell_type": "code",
      "source": [
        "API_kEY=\"0ebcef01-70c7-4fc7-ab93-24a406b4fade\"\n",
        "\n",
        "url=\"https://api.harvardartmuseums.org/classification\"\n",
        "\n",
        "import requests\n",
        "params={\"apikey\":API_kEY,\n",
        "        \"size\":100}\n",
        "\n",
        "response=requests.get(url,params)\n",
        "response"
      ],
      "metadata": {
        "id": "-x8ElQuBHA33"
      },
      "execution_count": null,
      "outputs": []
    },
    {
      "cell_type": "code",
      "source": [
        "data=response.json()\n",
        "type(data)"
      ],
      "metadata": {
        "id": "XNO0IYg1IyaM"
      },
      "execution_count": null,
      "outputs": []
    },
    {
      "cell_type": "code",
      "source": [
        "data.keys()"
      ],
      "metadata": {
        "id": "k01428ZuJJ8P"
      },
      "execution_count": null,
      "outputs": []
    },
    {
      "cell_type": "code",
      "source": [
        "data['records']"
      ],
      "metadata": {
        "id": "70Huzt_CJSam"
      },
      "execution_count": null,
      "outputs": []
    },
    {
      "cell_type": "code",
      "source": [
        "for i in data['records']:\n",
        "  if i['objectcount'] >= 2500:\n",
        "     print(i)"
      ],
      "metadata": {
        "id": "w3MvOW2MJjQG"
      },
      "execution_count": null,
      "outputs": []
    },
    {
      "cell_type": "code",
      "source": [
        "url = \"https://api.harvardartmuseums.org/object\"\n",
        "r = []\n",
        "classifications = [\"Vessels\", \"Prints\", \"Coins\", \"Paintings\", \"Drawings\"]\n",
        "\n",
        "for classification in classifications:\n",
        "  for i in range(1, 26):\n",
        "    params = {\n",
        "        \"apikey\": API_kEY,\n",
        "        \"size\": 100,\n",
        "        \"page\": i,\n",
        "        \"classification\": classification\n",
        "    }\n",
        "    response = requests.get(url, params)\n",
        "    r.append(response)\n",
        "\n",
        "r"
      ],
      "metadata": {
        "id": "Hh3EewPxuPt2"
      },
      "execution_count": null,
      "outputs": []
    },
    {
      "cell_type": "code",
      "source": [
        "data = []\n",
        "for response in r:\n",
        "  data.append(response.json())\n",
        "type(dict(data))"
      ],
      "metadata": {
        "id": "MWtw1X1cPnkj"
      },
      "execution_count": null,
      "outputs": []
    },
    {
      "cell_type": "code",
      "source": [
        "for g in data:\n",
        "  print(g.keys())\n"
      ],
      "metadata": {
        "id": "P0KEFUmFQLM7"
      },
      "execution_count": null,
      "outputs": []
    },
    {
      "cell_type": "code",
      "source": [
        "for g in data:\n",
        "   print(g['records'])"
      ],
      "metadata": {
        "id": "VX-Zou-pQXmU"
      },
      "execution_count": null,
      "outputs": []
    },
    {
      "cell_type": "code",
      "source": [
        "for g in data:\n",
        "  type(g['records'])"
      ],
      "metadata": {
        "id": "vA09SnyrQ34m"
      },
      "execution_count": null,
      "outputs": []
    },
    {
      "cell_type": "code",
      "source": [
        "for g in data:\n",
        "   g['records'][1]"
      ],
      "metadata": {
        "id": "bNDSG1U2RRk7"
      },
      "execution_count": null,
      "outputs": []
    },
    {
      "cell_type": "code",
      "source": [
        "metadata=[]\n",
        "media=[]\n",
        "colors=[]\n",
        "for g in data:\n",
        " for i in g['records']:\n",
        "  period_value = i.get('period')\n",
        "  if isinstance(period_value, list) and period_value:\n",
        "    period_value = str(period_value[0])\n",
        "  elif isinstance(period_value, list):\n",
        "    period_value = None\n",
        "  elif period_value is not None:\n",
        "    period_value = str(period_value)\n",
        "\n",
        "  colorcount_value = i.get('colorcount')\n",
        "  if isinstance(colorcount_value, list) and colorcount_value:\n",
        "    try:\n",
        "        colorcount_value = int(colorcount_value[0])\n",
        "    except (ValueError, TypeError):\n",
        "        colorcount_value = None\n",
        "  elif isinstance(colorcount_value, list):\n",
        "    colorcount_value = None\n",
        "  elif colorcount_value is not None:\n",
        "      try:\n",
        "          colorcount_value = int(colorcount_value)\n",
        "      except (ValueError, TypeError):\n",
        "          colorcount_value = None\n",
        "\n",
        "\n",
        "  metadata.append(dict(id=i.get('id'),\n",
        "                       title=i.get('title'),\n",
        "                      culture=i.get('culture'),\n",
        "                       period=period_value,\n",
        "                       century=i.get('century'),\n",
        "                       medium=i.get('medium'),\n",
        "                       dimensions=i.get('dimensions'),\n",
        "                       description=i.get('description'),\n",
        "                       department=i.get('department'),\n",
        "                       classification=i.get('classification'),\n",
        "                       accessionyear=i.get('accessionyear'),\n",
        "                       accessionmethod=i.get('accessionmethod'),\n",
        "                      ))\n",
        "  media.append(dict(objectid=i.get('objectid'),\n",
        "                       imagecount=i.get('imagecount'),\n",
        "                      mediacount=i.get('mediacount'),\n",
        "                       colorcount=colorcount_value,\n",
        "                       rank=i.get('rank'),\n",
        "                       datebegin=i.get('datebegin'),\n",
        "                       dateend=i.get('dateend')\n",
        "                      ))\n",
        "  color_details=i.get('colors')\n",
        "  if color_details:\n",
        "    for j in color_details:\n",
        "      colors.append(dict(objectid=i.get('objectid'),\n",
        "                       color=j.get('color'),\n",
        "                      spectrum=j.get('spectrum'),\n",
        "                       hue=j.get('hue'),\n",
        "                       percent=j.get('percent'),\n",
        "                       css3=j.get('css3'),\n",
        "                      ))"
      ],
      "metadata": {
        "id": "tZlRwpMBSoky"
      },
      "execution_count": null,
      "outputs": []
    },
    {
      "cell_type": "code",
      "source": [
        "metadata"
      ],
      "metadata": {
        "id": "Im8JM4KYkhs7"
      },
      "execution_count": null,
      "outputs": []
    },
    {
      "cell_type": "code",
      "source": [
        "media"
      ],
      "metadata": {
        "id": "tgFhEDexcNqj"
      },
      "execution_count": null,
      "outputs": []
    },
    {
      "cell_type": "code",
      "source": [
        "colors"
      ],
      "metadata": {
        "id": "-Rey-DPvkonS"
      },
      "execution_count": null,
      "outputs": []
    },
    {
      "cell_type": "code",
      "source": [
        "import sqlite3\n",
        "\n",
        "conn = sqlite3.connect(\"artifacts.db\")\n",
        "cur = conn.cursor()\n",
        "\n",
        "cur.execute(\"\"\"\n",
        "CREATE TABLE IF NOT EXISTS artifact_metadata (\n",
        "    id INTEGER PRIMARY KEY,\n",
        "    title TEXT,\n",
        "    culture TEXT,\n",
        "    period TEXT,\n",
        "    century TEXT,\n",
        "    medium TEXT,\n",
        "    dimensions TEXT,\n",
        "    description TEXT,\n",
        "    department TEXT,\n",
        "    classification TEXT,\n",
        "    accessionyear INTEGER,\n",
        "    accessionmethod TEXT\n",
        ")\n",
        "\"\"\")\n",
        "\n",
        "cur.execute(\"\"\"\n",
        "CREATE TABLE IF NOT EXISTS artifact_media (\n",
        "    objectid INTEGER,\n",
        "    imagecount INTEGER,\n",
        "    mediacount INTEGER,\n",
        "    colorcount INTEGER,\n",
        "    rank INTEGER,\n",
        "    datebegin INTEGER,\n",
        "    dateend INTEGER,\n",
        "    FOREIGN KEY(objectid) REFERENCES artifact_metadata(id)\n",
        ")\n",
        "\"\"\")\n",
        "\n",
        "cur.execute(\"\"\"\n",
        "CREATE TABLE IF NOT EXISTS artifact_colors (\n",
        "    objectid INTEGER,\n",
        "    color TEXT,\n",
        "    spectrum TEXT,\n",
        "    hue TEXT,\n",
        "    percent REAL,\n",
        "    css3 TEXT,\n",
        "    FOREIGN KEY(objectid) REFERENCES artifact_metadata(id)\n",
        ")\n",
        "\"\"\")\n",
        "\n",
        "\n",
        "cur.executemany(\"\"\"\n",
        "INSERT OR IGNORE INTO artifact_metadata (\n",
        "    id, title, culture, period, century, medium, dimensions,\n",
        "    description, department, classification, accessionyear, accessionmethod\n",
        ") VALUES (\n",
        "    :id, :title, :culture, :period, :century, :medium, :dimensions,\n",
        "    :description, :department, :classification, :accessionyear, :accessionmethod\n",
        ")\n",
        "\"\"\", metadata)\n",
        "\n",
        "cur.executemany(\"\"\"\n",
        "INSERT OR IGNORE INTO artifact_media (\n",
        "    objectid, imagecount, mediacount, colorcount, rank, datebegin, dateend\n",
        ") VALUES (\n",
        "    :objectid, :imagecount, :mediacount, :colorcount, :rank, :datebegin, :dateend\n",
        ")\n",
        "\"\"\", media)\n",
        "\n",
        "cur.executemany(\"\"\"\n",
        "INSERT OR IGNORE INTO artifact_colors (\n",
        "    objectid, color, spectrum, hue, percent, css3\n",
        ") VALUES (\n",
        "    :objectid, :color, :spectrum, :hue, :percent, :css3\n",
        ")\n",
        "\"\"\", colors)\n",
        "\n",
        "conn.commit()\n",
        "conn.close()\n",
        "\n",
        "print(\"✅ Tables created and data inserted successfully.\")\n"
      ],
      "metadata": {
        "id": "C2NbslsXpyUy"
      },
      "execution_count": null,
      "outputs": []
    },
    {
      "cell_type": "code",
      "source": [
        "conn = sqlite3.connect(\"artifacts.db\")\n",
        "cur = conn.cursor()\n",
        "\n",
        "cur.execute(\"SELECT COUNT(*) FROM artifact_metadata\")\n",
        "print(\"Number of records in artifact_metadata:\", cur.fetchone()[0])\n",
        "\n",
        "cur.execute(\"SELECT COUNT(*) FROM artifact_media\")\n",
        "print(\"Number of records in artifact_media:\", cur.fetchone()[0])\n",
        "\n",
        "cur.execute(\"SELECT COUNT(*) FROM artifact_colors\")\n",
        "print(\"Number of records in artifact_colors:\", cur.fetchone()[0])\n",
        "\n",
        "conn.close()\n"
      ],
      "metadata": {
        "id": "FgEGFfjZqhyE"
      },
      "execution_count": null,
      "outputs": []
    },
    {
      "cell_type": "code",
      "source": [
        "import requests\n",
        "import sqlite3\n",
        "\n",
        "API_kEY = \"0ebcef01-70c7-4fc7-ab93-24a406b4fade\"\n",
        "BASE_URL = \"https://api.harvardartmuseums.org/object\"\n",
        "CLASSIFICATION = \"Paintings\"\n",
        "RECORDS_TO_FETCH = 2500\n",
        "PAGE_SIZE = 100\n"
      ],
      "metadata": {
        "id": "ldq8iQD6rG9h"
      },
      "execution_count": null,
      "outputs": []
    },
    {
      "cell_type": "code",
      "source": [
        "metadata = []\n",
        "media = []\n",
        "colors = []\n",
        "\n",
        "params = {\n",
        "    \"apikey\": API_kEY,\n",
        "    \"classification\": CLASSIFICATION,\n",
        "    \"size\": PAGE_SIZE,\n",
        "    \"page\": 1\n",
        "}\n",
        "\n",
        "while len(metadata) < RECORDS_TO_FETCH:\n",
        "    response = requests.get(BASE_URL, params=params)\n",
        "    data = response.json()\n",
        "\n",
        "    for item in data.get(\"records\", []):\n",
        "\n",
        "        metadata.append({\n",
        "            \"id\": item.get(\"id\"),\n",
        "            \"title\": item.get(\"title\"),\n",
        "            \"culture\": item.get(\"culture\"),\n",
        "            \"period\": item.get(\"period\"),\n",
        "            \"century\": item.get(\"century\"),\n",
        "            \"medium\": item.get(\"medium\"),\n",
        "            \"dimensions\": item.get(\"dimensions\"),\n",
        "            \"description\": item.get(\"description\"),\n",
        "            \"department\": item.get(\"division\"),\n",
        "            \"classification\": item.get(\"classification\"),\n",
        "            \"accessionyear\": item.get(\"accessionyear\"),\n",
        "            \"accessionmethod\": item.get(\"accessionmethod\")\n",
        "        })\n",
        "\n",
        "        objectid = item.get(\"id\")\n",
        "\n",
        "\n",
        "        imagecount = len(item.get(\"images\", []))\n",
        "        mediacount = len(item.get(\"media\", [])) if item.get(\"media\") else 0\n",
        "        colorcount = len(item.get(\"colors\", [])) if item.get(\"colors\") else 0\n",
        "\n",
        "        media.append({\n",
        "            \"objectid\": objectid,\n",
        "            \"imagecount\": imagecount,\n",
        "            \"mediacount\": mediacount,\n",
        "            \"colorcount\": colorcount,\n",
        "            \"rank\": item.get(\"rank\"),\n",
        "            \"datebegin\": item.get(\"datebegin\"),\n",
        "            \"dateend\": item.get(\"dateend\")\n",
        "        })\n",
        "\n",
        "\n",
        "        for color in item.get(\"colors\", []):\n",
        "            colors.append({\n",
        "                \"objectid\": objectid,\n",
        "                \"color\": color.get(\"color\"),\n",
        "                \"spectrum\": color.get(\"spectrum\"),\n",
        "                \"hue\": color.get(\"hue\"),\n",
        "                \"percent\": color.get(\"percent\"),\n",
        "                \"css3\": color.get(\"css3\")\n",
        "            })\n",
        "\n",
        "        if len(metadata) >= RECORDS_TO_FETCH:\n",
        "            break\n",
        "\n",
        "    if not data.get(\"info\", {}).get(\"next\"):\n",
        "        break\n",
        "\n",
        "    params[\"page\"] += 1\n",
        "\n",
        "print(f\"Fetched {len(metadata)} metadata records\")\n",
        "print(f\"Fetched {len(media)} media records\")\n",
        "print(f\"Fetched {len(colors)} color records\")\n"
      ],
      "metadata": {
        "id": "a9cXYwjPrQyx"
      },
      "execution_count": null,
      "outputs": []
    },
    {
      "cell_type": "code",
      "source": [
        "conn = sqlite3.connect(\"artifacts.db\")\n",
        "cur = conn.cursor()\n",
        "\n",
        "\n",
        "cur.executemany(\"\"\"\n",
        "INSERT OR IGNORE INTO artifact_metadata (\n",
        "    id, title, culture, period, century, medium, dimensions,\n",
        "    description, department, classification, accessionyear, accessionmethod\n",
        ") VALUES (\n",
        "    :id, :title, :culture, :period, :century, :medium, :dimensions,\n",
        "    :description, :department, :classification, :accessionyear, :accessionmethod\n",
        ")\n",
        "\"\"\", metadata)\n",
        "\n",
        "\n",
        "cur.executemany(\"\"\"\n",
        "INSERT OR IGNORE INTO artifact_media (\n",
        "    objectid, imagecount, mediacount, colorcount, rank, datebegin, dateend\n",
        ") VALUES (\n",
        "    :objectid, :imagecount, :mediacount, :colorcount, :rank, :datebegin, :dateend\n",
        ")\n",
        "\"\"\", media)\n",
        "\n",
        "\n",
        "cur.executemany(\"\"\"\n",
        "INSERT OR IGNORE INTO artifact_colors (\n",
        "    objectid, color, spectrum, hue, percent, css3\n",
        ") VALUES (\n",
        "    :objectid, :color, :spectrum, :hue, :percent, :css3\n",
        ")\n",
        "\"\"\", colors)\n",
        "\n",
        "conn.commit()\n",
        "conn.close()\n",
        "\n",
        "print(\"✅ Data inserted successfully!\")\n"
      ],
      "metadata": {
        "id": "zE_hHZn6rZni"
      },
      "execution_count": null,
      "outputs": []
    },
    {
      "cell_type": "code",
      "source": [
        "import sqlite3\n",
        "\n",
        "conn = sqlite3.connect(\"artifacts.db\")\n",
        "cur = conn.cursor()\n",
        "\n",
        "cur.execute(\"SELECT name FROM sqlite_master WHERE type='table';\")\n",
        "print(\"Tables:\", cur.fetchall())\n",
        "\n",
        "cur.execute(\"SELECT COUNT(*) FROM artifact_metadata;\")\n",
        "count = cur.fetchone()[0]\n",
        "print(\"Rows in artifact_metadata:\", count)\n",
        "\n",
        "conn.close()\n"
      ],
      "metadata": {
        "id": "r8kUYx3ixO3p"
      },
      "execution_count": null,
      "outputs": []
    },
    {
      "cell_type": "code",
      "source": [
        "import sqlite3\n",
        "import pandas as pd\n",
        "\n",
        "def run_query(query):\n",
        "    conn = sqlite3.connect('artifacts.db')\n",
        "    df = pd.read_sql_query(query, conn)\n",
        "    conn.close()\n",
        "    return df\n",
        "\n",
        "query = \"\"\"\n",
        "SELECT * FROM artifact_metadata\n",
        "WHERE century LIKE '%11th%'\n",
        "AND culture LIKE '%Byzantine%'\n",
        "LIMIT 10;\n",
        "\"\"\"\n",
        "\n",
        "df = run_query(query)\n",
        "print(df)\n"
      ],
      "metadata": {
        "id": "LGHygb73xetw"
      },
      "execution_count": null,
      "outputs": []
    }
  ]
}